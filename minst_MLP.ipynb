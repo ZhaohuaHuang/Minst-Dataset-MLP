{
  "nbformat": 4,
  "nbformat_minor": 0,
  "metadata": {
    "colab": {
      "name": "Untitled10.ipynb",
      "provenance": []
    },
    "kernelspec": {
      "name": "python3",
      "display_name": "Python 3"
    }
  },
  "cells": [
    {
      "cell_type": "code",
      "metadata": {
        "id": "7C-0vdI5p5he"
      },
      "source": [
        ""
      ],
      "execution_count": null,
      "outputs": []
    },
    {
      "cell_type": "markdown",
      "metadata": {
        "id": "y2kDqnXYojgD"
      },
      "source": [
        "## *Minst Dataset*"
      ]
    },
    {
      "cell_type": "code",
      "metadata": {
        "id": "vOKr3HZGy8c4"
      },
      "source": [
        "import numpy as np\n",
        "import matplotlib.pyplot as plt\n",
        "from keras.datasets. mnist import load_data\n",
        "from keras.utils import to_categorical\n",
        "from keras.models import Sequential\n",
        "from keras.layers import Flatten, Dense, Dropout\n",
        "from keras import optimizers"
      ],
      "execution_count": null,
      "outputs": []
    },
    {
      "cell_type": "code",
      "metadata": {
        "id": "OG0ci3CGhLfv",
        "outputId": "42448386-92b5-4322-fb49-8081e92e8dc0",
        "colab": {
          "base_uri": "https://localhost:8080/",
          "height": 318
        }
      },
      "source": [
        "(X_train,Y_train),(X_test, Y_test)=load_data()\n",
        "\n",
        "#display 8 random image from traning dataset\n",
        "np.random.seed(123)\n",
        "\n",
        "rand_8=np.random.randint(0,X_train.shape[0],8)\n",
        "sample_x=X_train[rand_8]\n",
        "sample_y=Y_train[rand_8]\n",
        "\n",
        "num_rows, num_cols=2,4\n",
        "f, ax=plt.subplots(num_rows,num_cols, figsize=(12,5))\n",
        "\n",
        "for i in range(num_rows):\n",
        "  for j in range(num_cols):\n",
        "    image_index=i*4+j\n",
        "    ax[i,j].axis('off')\n",
        "    ax[i,j].imshow(sample_x[image_index],cmap='gray')\n",
        "    ax[i,j].set_title(f'No. {sample_y[image_index]}')\n",
        "plt.show()\n",
        "plt.close()"
      ],
      "execution_count": null,
      "outputs": [
        {
          "output_type": "display_data",
          "data": {
            "image/png": "[encoded data removed]",
            "text/plain": [
              "<Figure size 864x360 with 8 Axes>"
            ]
          },
          "metadata": {
            "tags": [],
            "needs_background": "light"
          }
        }
      ]
    },
    {
      "cell_type": "markdown",
      "metadata": {
        "id": "DTqPkGUDnrKZ"
      },
      "source": [
        "pre-processing"
      ]
    },
    {
      "cell_type": "code",
      "metadata": {
        "id": "FZk0wGWJns9f"
      },
      "source": [
        "#reshape\n",
        "\n",
        "image_height=X_train.shape[1]\n",
        "image_width=X_train.shape[2]\n",
        "num_channels=1\n",
        "\n",
        "training=np.reshape(X_train,(X_train.shape[0],image_height, image_width, num_channels))\n",
        "testing=np.reshape(X_test,(X_test.shape[0],image_height, image_width, num_channels))\n",
        "\n",
        "training=training.astype('float32')/255.\n",
        "testing=testing.astype('float32')/255.\n",
        "\n",
        "num_classes=10\n",
        "train_labels_cate=to_categorical(Y_train, num_classes)\n",
        "test_labels_cate=to_categorical(Y_test, num_classes)\n",
        "train_labels_cate.shape, test_labels_cate.shape\n",
        "\n",
        "#split training dataset into training and validation (10% of training)\n",
        "for _ in range(5):\n",
        "  indexes=np.random.permutation(len(training))\n",
        "\n",
        "training=training[indexes]\n",
        "train_labels_cate=train_labels_cate[indexes]\n",
        "\n",
        "#set 10% of traning as validation\n",
        "val_perc=0.1\n",
        "val_count=int(val_perc*len(training))\n",
        "\n",
        "validation=training[:val_count,:]\n",
        "val_labels_cate=train_labels_cate[:val_count,:]\n",
        "\n",
        "training2=training[val_count:,:]\n",
        "train_label_cate2=train_labels_cate[val_count:,:]"
      ],
      "execution_count": null,
      "outputs": []
    },
    {
      "cell_type": "code",
      "metadata": {
        "id": "w9dyk0mQnsRH",
        "outputId": "43bf09b4-3160-4d91-b923-72c41bc0ece7",
        "colab": {
          "base_uri": "https://localhost:8080/",
          "height": 34
        }
      },
      "source": [
        "training.shape"
      ],
      "execution_count": null,
      "outputs": [
        {
          "output_type": "execute_result",
          "data": {
            "text/plain": [
              "(60000, 28, 28, 1)"
            ]
          },
          "metadata": {
            "tags": []
          },
          "execution_count": 4
        }
      ]
    },
    {
      "cell_type": "code",
      "metadata": {
        "id": "7yw6DXBmwyeq",
        "outputId": "d26e3d1c-ca66-4db6-d650-022a74250af4",
        "colab": {
          "base_uri": "https://localhost:8080/",
          "height": 372
        }
      },
      "source": [
        "#construct MLP model from strach\n",
        "dropout=0.45\n",
        "\n",
        "model = Sequential()\n",
        "model.add(Flatten(input_shape=[28,28]))\n",
        "model.add(Dense(512, activation='relu'))\n",
        "model.add(Dropout(rate=dropout))\n",
        "model.add(Dense(512,activation='relu'))\n",
        "model.add(Dropout(rate=dropout))\n",
        "model.add(Dense(10,activation='softmax'))\n",
        "# compile with adam optimizer & categorical_crossentropy loss function\n",
        "model.summary()"
      ],
      "execution_count": null,
      "outputs": [
        {
          "output_type": "stream",
          "text": [
            "Model: \"sequential\"\n",
            "_________________________________________________________________\n",
            "Layer (type)                 Output Shape              Param #   \n",
            "=================================================================\n",
            "flatten (Flatten)            (None, 784)               0         \n",
            "_________________________________________________________________\n",
            "dense (Dense)                (None, 512)               401920    \n",
            "_________________________________________________________________\n",
            "dropout (Dropout)            (None, 512)               0         \n",
            "_________________________________________________________________\n",
            "dense_1 (Dense)              (None, 512)               262656    \n",
            "_________________________________________________________________\n",
            "dropout_1 (Dropout)          (None, 512)               0         \n",
            "_________________________________________________________________\n",
            "dense_2 (Dense)              (None, 10)                5130      \n",
            "=================================================================\n",
            "Total params: 669,706\n",
            "Trainable params: 669,706\n",
            "Non-trainable params: 0\n",
            "_________________________________________________________________\n"
          ],
          "name": "stdout"
        }
      ]
    },
    {
      "cell_type": "code",
      "metadata": {
        "id": "dggF3bR0IKD9"
      },
      "source": [
        "model.compile(optimizer=optimizers.Adam(lr=0.001),\n",
        "              loss='categorical_crossentropy',\n",
        "              metrics=['acc'])"
      ],
      "execution_count": null,
      "outputs": []
    },
    {
      "cell_type": "code",
      "metadata": {
        "id": "26-KBv-53NjK",
        "outputId": "c542e1f1-0d62-430a-c323-45ec40254f9c",
        "colab": {
          "base_uri": "https://localhost:8080/",
          "height": 1000
        }
      },
      "source": [
        "epochs=30\n",
        "batch_size=128\n",
        "\n",
        "history=model.fit(training2, train_label_cate2, epochs=epochs, batch_size=batch_size,validation_data=(validation,val_labels_cate ))"
      ],
      "execution_count": null,
      "outputs": [
        {
          "output_type": "stream",
          "text": [
            "Epoch 1/30\n",
            "422/422 [==============================] - 1s 3ms/step - loss: 0.3422 - acc: 0.8951 - val_loss: 0.1410 - val_acc: 0.9568\n",
            "Epoch 2/30\n",
            "422/422 [==============================] - 1s 3ms/step - loss: 0.1522 - acc: 0.9536 - val_loss: 0.0944 - val_acc: 0.9697\n",
            "Epoch 3/30\n",
            "422/422 [==============================] - 1s 3ms/step - loss: 0.1209 - acc: 0.9635 - val_loss: 0.0957 - val_acc: 0.9678\n",
            "Epoch 4/30\n",
            "422/422 [==============================] - 1s 3ms/step - loss: 0.0984 - acc: 0.9697 - val_loss: 0.0700 - val_acc: 0.9780\n",
            "Epoch 5/30\n",
            "422/422 [==============================] - 1s 3ms/step - loss: 0.0844 - acc: 0.9733 - val_loss: 0.0720 - val_acc: 0.9777\n",
            "Epoch 6/30\n",
            "422/422 [==============================] - 1s 3ms/step - loss: 0.0802 - acc: 0.9756 - val_loss: 0.0600 - val_acc: 0.9813\n",
            "Epoch 7/30\n",
            "422/422 [==============================] - 1s 3ms/step - loss: 0.0678 - acc: 0.9782 - val_loss: 0.0599 - val_acc: 0.9822\n",
            "Epoch 8/30\n",
            "422/422 [==============================] - 1s 3ms/step - loss: 0.0622 - acc: 0.9796 - val_loss: 0.0710 - val_acc: 0.9793\n",
            "Epoch 9/30\n",
            "422/422 [==============================] - 1s 3ms/step - loss: 0.0592 - acc: 0.9809 - val_loss: 0.0668 - val_acc: 0.9805\n",
            "Epoch 10/30\n",
            "422/422 [==============================] - 1s 3ms/step - loss: 0.0568 - acc: 0.9813 - val_loss: 0.0584 - val_acc: 0.9815\n",
            "Epoch 11/30\n",
            "422/422 [==============================] - 1s 3ms/step - loss: 0.0535 - acc: 0.9830 - val_loss: 0.0635 - val_acc: 0.9820\n",
            "Epoch 12/30\n",
            "422/422 [==============================] - 1s 3ms/step - loss: 0.0499 - acc: 0.9838 - val_loss: 0.0671 - val_acc: 0.9805\n",
            "Epoch 13/30\n",
            "422/422 [==============================] - 1s 3ms/step - loss: 0.0482 - acc: 0.9842 - val_loss: 0.0572 - val_acc: 0.9842\n",
            "Epoch 14/30\n",
            "422/422 [==============================] - 1s 3ms/step - loss: 0.0458 - acc: 0.9845 - val_loss: 0.0702 - val_acc: 0.9815\n",
            "Epoch 15/30\n",
            "422/422 [==============================] - 1s 3ms/step - loss: 0.0441 - acc: 0.9861 - val_loss: 0.0614 - val_acc: 0.9833\n",
            "Epoch 16/30\n",
            "422/422 [==============================] - 1s 3ms/step - loss: 0.0424 - acc: 0.9858 - val_loss: 0.0688 - val_acc: 0.9828\n",
            "Epoch 17/30\n",
            "422/422 [==============================] - 1s 3ms/step - loss: 0.0432 - acc: 0.9859 - val_loss: 0.0617 - val_acc: 0.9820\n",
            "Epoch 18/30\n",
            "422/422 [==============================] - 1s 3ms/step - loss: 0.0380 - acc: 0.9868 - val_loss: 0.0647 - val_acc: 0.9838\n",
            "Epoch 19/30\n",
            "422/422 [==============================] - 1s 3ms/step - loss: 0.0392 - acc: 0.9875 - val_loss: 0.0732 - val_acc: 0.9813\n",
            "Epoch 20/30\n",
            "422/422 [==============================] - 1s 3ms/step - loss: 0.0401 - acc: 0.9869 - val_loss: 0.0639 - val_acc: 0.9820\n",
            "Epoch 21/30\n",
            "422/422 [==============================] - 1s 3ms/step - loss: 0.0318 - acc: 0.9891 - val_loss: 0.0679 - val_acc: 0.9830\n",
            "Epoch 22/30\n",
            "422/422 [==============================] - 1s 3ms/step - loss: 0.0352 - acc: 0.9884 - val_loss: 0.0653 - val_acc: 0.9853\n",
            "Epoch 23/30\n",
            "422/422 [==============================] - 1s 3ms/step - loss: 0.0369 - acc: 0.9886 - val_loss: 0.0619 - val_acc: 0.9837\n",
            "Epoch 24/30\n",
            "422/422 [==============================] - 1s 3ms/step - loss: 0.0326 - acc: 0.9895 - val_loss: 0.0630 - val_acc: 0.9833\n",
            "Epoch 25/30\n",
            "422/422 [==============================] - 1s 3ms/step - loss: 0.0334 - acc: 0.9891 - val_loss: 0.0641 - val_acc: 0.9852\n",
            "Epoch 26/30\n",
            "422/422 [==============================] - 1s 3ms/step - loss: 0.0314 - acc: 0.9896 - val_loss: 0.0691 - val_acc: 0.9843\n",
            "Epoch 27/30\n",
            "422/422 [==============================] - 1s 3ms/step - loss: 0.0323 - acc: 0.9891 - val_loss: 0.0585 - val_acc: 0.9855\n",
            "Epoch 28/30\n",
            "422/422 [==============================] - 1s 3ms/step - loss: 0.0300 - acc: 0.9904 - val_loss: 0.0691 - val_acc: 0.9840\n",
            "Epoch 29/30\n",
            "422/422 [==============================] - 1s 3ms/step - loss: 0.0312 - acc: 0.9897 - val_loss: 0.0655 - val_acc: 0.9862\n",
            "Epoch 30/30\n",
            "422/422 [==============================] - 1s 3ms/step - loss: 0.0325 - acc: 0.9899 - val_loss: 0.0638 - val_acc: 0.9848\n"
          ],
          "name": "stdout"
        }
      ]
    },
    {
      "cell_type": "code",
      "metadata": {
        "id": "v7Vo8ik8Y4jk",
        "outputId": "feddb97b-b7a4-460e-81e2-2d393a7cf8ad",
        "colab": {
          "base_uri": "https://localhost:8080/",
          "height": 513
        }
      },
      "source": [
        "acc = history.history['acc']\n",
        "val_acc = history.history['val_acc']\n",
        "\n",
        "loss = history.history['loss']\n",
        "val_loss = history.history['val_loss']\n",
        "\n",
        "plt.figure(figsize=(8, 8))\n",
        "plt.subplot(2, 1, 1)\n",
        "plt.plot(acc, label='Training Accuracy')\n",
        "plt.plot(val_acc, label='Validation Accuracy')\n",
        "plt.legend(loc='lower right')\n",
        "plt.ylabel('Accuracy')\n",
        "plt.ylim([min(plt.ylim()),1])\n",
        "plt.title('Training and Validation Accuracy')\n",
        "\n",
        "plt.subplot(2, 1, 2)\n",
        "plt.plot(loss, label='Training Loss')\n",
        "plt.plot(val_loss, label='Validation Loss')\n",
        "plt.legend(loc='upper right')\n",
        "plt.ylabel('Cross Entropy')\n",
        "plt.ylim([0,1.0])\n",
        "plt.title('Training and Validation Loss')\n",
        "plt.xlabel('epoch')\n",
        "plt.show()"
      ],
      "execution_count": null,
      "outputs": [
        {
          "output_type": "display_data",
          "data": {
            "image/png": "[encoded data removed]",
            "text/plain": [
              "<Figure size 576x576 with 2 Axes>"
            ]
          },
          "metadata": {
            "tags": [],
            "needs_background": "light"
          }
        }
      ]
    },
    {
      "cell_type": "markdown",
      "metadata": {
        "id": "DzjnEdeHzwAU"
      },
      "source": [
        "# Fine Tuning"
      ]
    },
    {
      "cell_type": "code",
      "metadata": {
        "id": "7h-9MUR9IkdI",
        "outputId": "4ca0090f-445b-425a-c852-1a2df309ce94",
        "colab": {
          "base_uri": "https://localhost:8080/",
          "height": 34
        }
      },
      "source": [
        "#fine-tune\n",
        "model.trainable = True\n",
        "\n",
        "# Let's take a look to see how many layers are in the base model\n",
        "print(\"Number of layers in the base model: \", len(model.layers))\n",
        "\n",
        "# Fine-tune from this layer onwards\n",
        "fine_tune_at = 3\n",
        "\n",
        "# Freeze all the layers before the `fine_tune_at` layer\n",
        "for layer in model.layers[:fine_tune_at]:\n",
        "  layer.trainable =  False\n",
        "\n",
        "#add dropout layer, change learning rate to 2e-5\n",
        "last=model.layers[-1].output\n",
        "x=Dense(256, activation='relu')(last)\n",
        "x = Dropout(0.2)(x)\n",
        "x=Dense(256, activation='relu')(x)\n",
        "x = Dropout(0.2)(x)\n",
        "x=Dense(num_classes, activation='softmax')(x)\n",
        "\n",
        "# Compile the model and use a smaller learning rate for optimizer\n",
        "model.compile(optimizer=optimizers.Adam(lr=2e-5),\n",
        "              loss='categorical_crossentropy',\n",
        "              metrics=['acc'])"
      ],
      "execution_count": null,
      "outputs": [
        {
          "output_type": "stream",
          "text": [
            "Number of layers in the base model:  6\n"
          ],
          "name": "stdout"
        }
      ]
    },
    {
      "cell_type": "code",
      "metadata": {
        "id": "LuSnHOohRIZY",
        "outputId": "7f0004d6-4e8a-4ee1-9429-3e7cf6ccf61c",
        "colab": {
          "base_uri": "https://localhost:8080/",
          "height": 763
        }
      },
      "source": [
        "fine_tune_epochs=20\n",
        "total_epochs=epochs+fine_tune_epochs\n",
        "\n",
        "history_fine=model.fit(training2, \n",
        "                  train_label_cate2, \n",
        "                  epochs=total_epochs, \n",
        "                  initial_epoch=history.epoch[-1],\n",
        "                  validation_data=(validation,val_labels_cate ))"
      ],
      "execution_count": null,
      "outputs": [
        {
          "output_type": "stream",
          "text": [
            "Epoch 30/50\n",
            "1688/1688 [==============================] - 4s 2ms/step - loss: 0.0243 - acc: 0.9917 - val_loss: 0.0636 - val_acc: 0.9850\n",
            "Epoch 31/50\n",
            "1688/1688 [==============================] - 4s 2ms/step - loss: 0.0244 - acc: 0.9922 - val_loss: 0.0633 - val_acc: 0.9848\n",
            "Epoch 32/50\n",
            "1688/1688 [==============================] - 4s 2ms/step - loss: 0.0246 - acc: 0.9919 - val_loss: 0.0631 - val_acc: 0.9852\n",
            "Epoch 33/50\n",
            "1688/1688 [==============================] - 4s 2ms/step - loss: 0.0222 - acc: 0.9924 - val_loss: 0.0623 - val_acc: 0.9857\n",
            "Epoch 34/50\n",
            "1688/1688 [==============================] - 4s 2ms/step - loss: 0.0222 - acc: 0.9928 - val_loss: 0.0621 - val_acc: 0.9858\n",
            "Epoch 35/50\n",
            "1688/1688 [==============================] - 4s 2ms/step - loss: 0.0203 - acc: 0.9930 - val_loss: 0.0622 - val_acc: 0.9860\n",
            "Epoch 36/50\n",
            "1688/1688 [==============================] - 4s 2ms/step - loss: 0.0215 - acc: 0.9932 - val_loss: 0.0623 - val_acc: 0.9858\n",
            "Epoch 37/50\n",
            "1688/1688 [==============================] - 4s 2ms/step - loss: 0.0181 - acc: 0.9940 - val_loss: 0.0621 - val_acc: 0.9860\n",
            "Epoch 38/50\n",
            "1688/1688 [==============================] - 4s 2ms/step - loss: 0.0193 - acc: 0.9939 - val_loss: 0.0615 - val_acc: 0.9865\n",
            "Epoch 39/50\n",
            "1688/1688 [==============================] - 4s 2ms/step - loss: 0.0202 - acc: 0.9930 - val_loss: 0.0616 - val_acc: 0.9863\n",
            "Epoch 40/50\n",
            "1688/1688 [==============================] - 4s 2ms/step - loss: 0.0205 - acc: 0.9933 - val_loss: 0.0617 - val_acc: 0.9865\n",
            "Epoch 41/50\n",
            "1688/1688 [==============================] - 4s 2ms/step - loss: 0.0201 - acc: 0.9932 - val_loss: 0.0618 - val_acc: 0.9857\n",
            "Epoch 42/50\n",
            "1688/1688 [==============================] - 4s 2ms/step - loss: 0.0195 - acc: 0.9936 - val_loss: 0.0615 - val_acc: 0.9862\n",
            "Epoch 43/50\n",
            "1688/1688 [==============================] - 4s 2ms/step - loss: 0.0190 - acc: 0.9937 - val_loss: 0.0613 - val_acc: 0.9860\n",
            "Epoch 44/50\n",
            "1688/1688 [==============================] - 4s 2ms/step - loss: 0.0178 - acc: 0.9937 - val_loss: 0.0618 - val_acc: 0.9858\n",
            "Epoch 45/50\n",
            "1688/1688 [==============================] - 4s 2ms/step - loss: 0.0177 - acc: 0.9941 - val_loss: 0.0619 - val_acc: 0.9858\n",
            "Epoch 46/50\n",
            "1688/1688 [==============================] - 4s 2ms/step - loss: 0.0202 - acc: 0.9936 - val_loss: 0.0619 - val_acc: 0.9862\n",
            "Epoch 47/50\n",
            "1688/1688 [==============================] - 4s 2ms/step - loss: 0.0176 - acc: 0.9943 - val_loss: 0.0619 - val_acc: 0.9862\n",
            "Epoch 48/50\n",
            "1688/1688 [==============================] - 4s 2ms/step - loss: 0.0186 - acc: 0.9942 - val_loss: 0.0617 - val_acc: 0.9862\n",
            "Epoch 49/50\n",
            "1688/1688 [==============================] - 4s 2ms/step - loss: 0.0184 - acc: 0.9937 - val_loss: 0.0619 - val_acc: 0.9860\n",
            "Epoch 50/50\n",
            "1688/1688 [==============================] - 4s 2ms/step - loss: 0.0196 - acc: 0.9934 - val_loss: 0.0623 - val_acc: 0.9858\n"
          ],
          "name": "stdout"
        }
      ]
    },
    {
      "cell_type": "code",
      "metadata": {
        "id": "76rx-teJSemd"
      },
      "source": [
        "acc += history_fine.history['acc']\n",
        "val_acc += history_fine.history['val_acc']\n",
        "\n",
        "loss += history_fine.history['loss']\n",
        "val_loss += history_fine.history['val_loss']"
      ],
      "execution_count": null,
      "outputs": []
    },
    {
      "cell_type": "code",
      "metadata": {
        "id": "4APd55btSjXk",
        "outputId": "1380357d-0f59-464c-fd01-6283344a477c",
        "colab": {
          "base_uri": "https://localhost:8080/",
          "height": 513
        }
      },
      "source": [
        "plt.figure(figsize=(8, 8))\n",
        "plt.subplot(2, 1, 1)\n",
        "plt.plot(acc, label='Training Accuracy')\n",
        "plt.plot(val_acc, label='Validation Accuracy')\n",
        "plt.ylim([0.9, 1.0])\n",
        "plt.plot([epochs-1,epochs-1],\n",
        "          plt.ylim(), label='Start Fine Tuning')\n",
        "plt.legend(loc='lower right')\n",
        "plt.title('Training and Validation Accuracy')\n",
        "\n",
        "plt.subplot(2, 1, 2)\n",
        "plt.plot(loss, label='Training Loss')\n",
        "plt.plot(val_loss, label='Validation Loss')\n",
        "plt.ylim([0, 1.0])\n",
        "plt.plot([epochs-1,epochs-1],\n",
        "         plt.ylim(), label='Start Fine Tuning')\n",
        "plt.legend(loc='upper right')\n",
        "plt.title('Training and Validation Loss')\n",
        "plt.xlabel('epoch')\n",
        "plt.show()"
      ],
      "execution_count": null,
      "outputs": [
        {
          "output_type": "display_data",
          "data": {
            "image/png": "[encoded data removed]",
            "text/plain": [
              "<Figure size 576x576 with 2 Axes>"
            ]
          },
          "metadata": {
            "tags": [],
            "needs_background": "light"
          }
        }
      ]
    },
    {
      "cell_type": "code",
      "metadata": {
        "id": "8ZDjr0tVbHvB",
        "outputId": "fed2e8c4-d44e-4699-d7bc-c1efb1e4ebfb",
        "colab": {
          "base_uri": "https://localhost:8080/",
          "height": 52
        }
      },
      "source": [
        "#final mode evaluation on test dataset\n",
        "\n",
        "test_loss, test_accuracy = \\\n",
        "  model.evaluate(testing, test_labels_cate, batch_size=64)\n",
        "print('Test loss: %.4f accuracy: %.4f' % (test_loss, test_accuracy))"
      ],
      "execution_count": null,
      "outputs": [
        {
          "output_type": "stream",
          "text": [
            "157/157 [==============================] - 0s 2ms/step - loss: 0.0607 - acc: 0.9863\n",
            "Test loss: 0.0607 accuracy: 0.9863\n"
          ],
          "name": "stdout"
        }
      ]
    },
    {
      "cell_type": "code",
      "metadata": {
        "id": "qMH43maLmM67"
      },
      "source": [
        "from sklearn.metrics import classification_report, confusion_matrix\n",
        "from sklearn.metrics import precision_score\n",
        "y_pred=model.predict(testing,verbose=0)\n",
        "y_pred=np.argmax(a=y_pred,axis=1)\n",
        "y_true_classes=np.argmax(a=test_labels_cate,axis=1)\n",
        "precision = precision_score(y_true_classes,y_pred,average='micro')\n",
        "print('Precision: %.5f' % precision)"
      ],
      "execution_count": null,
      "outputs": []
    }
  ]
}